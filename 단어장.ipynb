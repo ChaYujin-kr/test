{
  "nbformat": 4,
  "nbformat_minor": 0,
  "metadata": {
    "colab": {
      "provenance": [],
      "authorship_tag": "ABX9TyPcYc6e8K+qv2ODAXIZ9QMc",
      "include_colab_link": true
    },
    "kernelspec": {
      "name": "python3",
      "display_name": "Python 3"
    },
    "language_info": {
      "name": "python"
    }
  },
  "cells": [
    {
      "cell_type": "markdown",
      "metadata": {
        "id": "view-in-github",
        "colab_type": "text"
      },
      "source": [
        "<a href=\"https://colab.research.google.com/github/ChaYujin-kr/test/blob/main/%EB%8B%A8%EC%96%B4%EC%9E%A5.ipynb\" target=\"_parent\"><img src=\"https://colab.research.google.com/assets/colab-badge.svg\" alt=\"Open In Colab\"/></a>"
      ]
    },
    {
      "cell_type": "code",
      "execution_count": 9,
      "metadata": {
        "colab": {
          "base_uri": "https://localhost:8080/"
        },
        "id": "Ug1kmEKom2G-",
        "outputId": "be4a2a3a-c159-4cd7-9e92-8fae4bec4a7a"
      },
      "outputs": [
        {
          "output_type": "stream",
          "name": "stdout",
          "text": [
            "새로운 문제와 답을 추가합니다.\n",
            "문제를 입력하세요 (또는 종료하려면 그냥 Enter를 누르세요): asdlfkj\n",
            "정답을 입력하세요 (복수 정답 시 '&'로 구분): 1&2&3\n",
            "새로운 문제와 답이 추가되었습니다: asdlfkj - ['1', '2', '3']\n",
            "문제를 입력하세요 (또는 종료하려면 그냥 Enter를 누르세요): \n",
            "입력이 종료되었습니다.\n",
            "\n",
            "문제를 풀어봅시다!\n",
            "1 / 2\n",
            "Q1\n",
            "정답은?(띄어쓰기 없음) \n",
            " >>> A1\n",
            "🍩🍬🍭 정답입니다!\n",
            "\n",
            "2 / 2\n",
            "asdlfkj\n",
            "정답은?(띄어쓰기 없음) \n",
            " >>> 3\n",
            "🍩🍬🍭 정답입니다!\n",
            "\n",
            "틀린 문제가 없습니다!\n"
          ]
        }
      ],
      "source": [
        "import random\n",
        "\n",
        "# 기존 질문과 답 리스트\n",
        "questions = ['Q1']\n",
        "answers = ['A1']\n",
        "\n",
        "def add_question_answer():\n",
        "    while True:\n",
        "        new_question = input(\"문제를 입력하세요 (또는 종료하려면 그냥 Enter를 누르세요): \").strip()\n",
        "        if not new_question:\n",
        "            print(\"입력이 종료되었습니다.\")\n",
        "            break\n",
        "        # 사용자에게 정답을 입력받아 리스트로 저장\n",
        "        new_answer = input(\"정답을 입력하세요 (복수 정답 시 \\'&\\'로 구분): \").strip().split('&')\n",
        "\n",
        "        questions.append(new_question)\n",
        "        answers.append(new_answer)\n",
        "        print(f\"새로운 문제와 답이 추가되었습니다: {new_question} - {new_answer}\")\n",
        "\n",
        "def quiz():\n",
        "    wrong_questions = []\n",
        "    wrong_answers = []\n",
        "\n",
        "    total = len(questions)\n",
        "    for idx, question in enumerate(questions):\n",
        "        print(f\"{idx + 1} / {total}\")\n",
        "        print(question)\n",
        "\n",
        "        my_ans = input(\"정답은?(띄어쓰기 없음) \\n >>> \").strip()\n",
        "\n",
        "        correct_ans = answers[questions.index(question)]\n",
        "\n",
        "        if my_ans in correct_ans:\n",
        "            print(\"🍩🍬🍭 정답입니다!\\n\")\n",
        "        else:\n",
        "            print(f\"☠️👻🧟 오답입니다. 정답은 '{correct_ans}'입니다\\n\")\n",
        "            wrong_questions.append(question)\n",
        "            wrong_answers.append(correct_ans)\n",
        "\n",
        "    return wrong_questions, wrong_answers\n",
        "\n",
        "def retry_wrong_questions(wrong_questions, wrong_answers):\n",
        "    for idx, question in enumerate(wrong_questions):\n",
        "        print(f\"{idx + 1} / {len(wrong_questions)}\")\n",
        "        print(question)\n",
        "\n",
        "        my_ans = input(\"다시 정답은?(띄어쓰기 없음) \\n >>> \").strip()\n",
        "\n",
        "        if my_ans == wrong_answers[idx]:\n",
        "            print(\"🍩🍬🍭 정답입니다!\\n\")\n",
        "        else:\n",
        "            print(f\"☠️👻🧟 오답입니다. 정답은 '{wrong_answers[idx]}'입니다\\n\")\n",
        "\n",
        "def main():\n",
        "    # 문제 만들기(불필요시 주석 처리)\n",
        "    print(\"새로운 문제와 답을 추가합니다.\")\n",
        "    add_question_answer()\n",
        "\n",
        "    # 문제 풀기(불필요시 주석 처리)\n",
        "    print(\"\\n문제를 풀어봅시다!\")\n",
        "    wrong_questions, wrong_answers = quiz()\n",
        "\n",
        "    # 오답노트(불필요시 주석 처리)\n",
        "    if wrong_questions:\n",
        "        print('\\n======= 오답노트 =======\\n')\n",
        "        retry_wrong_questions(wrong_questions, wrong_answers)\n",
        "    else:\n",
        "        print(\"틀린 문제가 없습니다!\")\n",
        "\n",
        "# main 함수 호출\n",
        "main()\n"
      ]
    },
    {
      "cell_type": "code",
      "source": [
        "from google.colab import drive\n",
        "import sqlite3\n",
        "import os\n",
        "\n",
        "# Google 드라이브 마운트\n",
        "drive.mount('/content/drive')\n",
        "\n",
        "# 데이터베이스 파일명과 드라이브 경로 설정\n",
        "db_name = 'quiz.db'\n",
        "drive_path = '/content/drive/My Drive/'  # 드라이브에 저장될 경로\n",
        "\n",
        "# 동일한 파일이 있는지 확인하고 이름 변경\n",
        "def get_unique_filename(base_name, directory):\n",
        "    name, ext = os.path.splitext(base_name)\n",
        "    i = 1\n",
        "    while os.path.exists(os.path.join(directory, base_name)):\n",
        "        base_name = f\"{name}{i}{ext}\"\n",
        "        i += 1\n",
        "    return base_name\n",
        "\n",
        "# 데이터베이스 파일 생성 및 연결\n",
        "db_file = get_unique_filename(db_name, drive_path)\n",
        "conn = sqlite3.connect(db_file)\n",
        "cur = conn.cursor()\n",
        "\n",
        "# 기존 테이블을 제거하고 새롭게 생성하는 스크립트\n",
        "cur.execute('DROP TABLE IF EXISTS Questions')\n",
        "cur.execute('DROP TABLE IF EXISTS Answers')\n",
        "\n",
        "cur.execute('''\n",
        "CREATE TABLE IF NOT EXISTS Questions (\n",
        "    question_id INTEGER PRIMARY KEY AUTOINCREMENT,\n",
        "    question TEXT NOT NULL\n",
        ")\n",
        "''')\n",
        "\n",
        "cur.execute('''\n",
        "CREATE TABLE IF NOT EXISTS Answers (\n",
        "    answer_id INTEGER PRIMARY KEY AUTOINCREMENT,\n",
        "    question_id INTEGER,\n",
        "    answer TEXT NOT NULL,\n",
        "    FOREIGN KEY(question_id) REFERENCES Questions(question_id)\n",
        ")\n",
        "''')\n",
        "\n",
        "# 이중 리스트로 질문과 답을 정의합니다\n",
        "questions = [\n",
        "    \"Q1\",\n",
        "    \"Q2\",\n",
        "    \"Q3\"\n",
        "]\n",
        "answers = [\n",
        "    [\"A1_1\", \"A1_2\"],  # Q1에 대한 여러 답\n",
        "    [\"A2_1\"],          # Q2에 대한 한 가지 답\n",
        "    [\"A3_1\", \"A3_2\", \"A3_3\"]  # Q3에 대한 여러 답\n",
        "]\n",
        "\n",
        "# 리스트의 내용을 테이블에 삽입\n",
        "def update_db():\n",
        "    for i, question in enumerate(questions):\n",
        "        cur.execute(\"INSERT INTO Questions (question) VALUES (?)\", (question,))\n",
        "        question_id = cur.lastrowid\n",
        "\n",
        "        # 각 질문에 대한 여러 답을 Answers 테이블에 추가\n",
        "        for answer in answers[i]:\n",
        "            cur.execute(\"INSERT INTO Answers (question_id, answer) VALUES (?, ?)\", (question_id, answer))\n",
        "\n",
        "    conn.commit()\n",
        "    print(\"데이터베이스에 업데이트가 완료되었습니다.\")\n",
        "\n",
        "# 데이터베이스 업데이트\n",
        "update_db()\n",
        "\n",
        "# 데이터베이스 연결 종료\n",
        "conn.close()\n"
      ],
      "metadata": {
        "colab": {
          "base_uri": "https://localhost:8080/"
        },
        "id": "LF8208RZoUm_",
        "outputId": "23ea2377-49df-41d3-9729-76ed108b6bb0"
      },
      "execution_count": 14,
      "outputs": [
        {
          "output_type": "stream",
          "name": "stdout",
          "text": [
            "Mounted at /content/drive\n",
            "데이터베이스에 업데이트가 완료되었습니다.\n"
          ]
        }
      ]
    },
    {
      "cell_type": "code",
      "source": [],
      "metadata": {
        "id": "LtsElwjEw_6g"
      },
      "execution_count": null,
      "outputs": []
    }
  ]
}